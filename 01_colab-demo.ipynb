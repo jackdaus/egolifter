{
  "cells": [
    {
      "cell_type": "markdown",
      "metadata": {
        "id": "view-in-github",
        "colab_type": "text"
      },
      "source": [
        "<a href=\"https://colab.research.google.com/github/jackdaus/egolifter/blob/colab/01_colab-demo.ipynb\" target=\"_parent\"><img src=\"https://colab.research.google.com/assets/colab-badge.svg\" alt=\"Open In Colab\"/></a>"
      ]
    },
    {
      "cell_type": "markdown",
      "id": "ZgyuERKa3Xkt",
      "metadata": {
        "id": "ZgyuERKa3Xkt"
      },
      "source": [
        "# Get Data Access Link\n",
        "\n",
        "Before you can download ADT data, you need to request from Aria the `ADT_download_urls.json`. This is an insant process. Follow the [directions in the original egolifter github](https://github.com/facebookresearch/egolifter?tab=readme-ov-file#download-and-pre-processing)."
      ]
    },
    {
      "cell_type": "code",
      "execution_count": null,
      "id": "FMIxd3pF8DxU",
      "metadata": {
        "id": "FMIxd3pF8DxU"
      },
      "outputs": [],
      "source": [
        "# IMPORTANT: Make sure you have uploaded your file `ADT_download_urls.json`!\n",
        "# See original repo for instructions on how to get that.\n",
        "import os\n",
        "\n",
        "file_path = \"/content/ADT_download_urls.json\"\n",
        "\n",
        "if os.path.exists(file_path):\n",
        "  print(\"File found!\", file_path)\n",
        "else:\n",
        "  print(\"Error: File ADT_download_urls.json not found!\", file_path)\n",
        "  print(\"Please upload the ADT_download_urls.json file to the /content directory.\")\n",
        "  print(\"See the original EgoLifter repository for how to get this download link.\")\n",
        "  raise FileNotFoundError(\"ADT_download_urls.json not found\")"
      ]
    },
    {
      "cell_type": "markdown",
      "id": "2e0f1c98",
      "metadata": {
        "id": "2e0f1c98"
      },
      "source": [
        "# Install Dependencies"
      ]
    },
    {
      "cell_type": "code",
      "execution_count": null,
      "id": "nqrI2PEDCZXn",
      "metadata": {
        "collapsed": true,
        "id": "nqrI2PEDCZXn"
      },
      "outputs": [],
      "source": [
        "# Install uv package manager\n",
        "!pip install uv\n",
        "\n",
        "# Verify install\n",
        "!uv --version"
      ]
    },
    {
      "cell_type": "code",
      "execution_count": null,
      "id": "mqfi-ej5DaFe",
      "metadata": {
        "id": "mqfi-ej5DaFe"
      },
      "outputs": [],
      "source": [
        "# Clone the repo\n",
        "!git clone https://github.com/jackdaus/egolifter.git\n",
        "%cd egolifter"
      ]
    },
    {
      "cell_type": "code",
      "execution_count": null,
      "id": "pDy9EmWkDqE1",
      "metadata": {
        "collapsed": true,
        "id": "pDy9EmWkDqE1"
      },
      "outputs": [],
      "source": [
        "# Install packages. This might take a few minutes.\n",
        "# NOTE: we have a hacky workaround here for Colab. Colab doesn't seem\n",
        "# to want to install groundingdino. So we remove it, then install other deps,\n",
        "# and then install groundingdino without isolation. (There is probably a better\n",
        "# way to do this...)\n",
        "!uv remove groundingdino\n",
        "!uv sync"
      ]
    },
    {
      "cell_type": "code",
      "source": [
        "# Then install groundingdino (without build isolation). This is to ensure that it uses pytorch=2.5.1\n",
        "!uv add \"groundingdino @ git+https://github.com/IDEA-Research/Grounded-Segment-Anything#subdirectory=GroundingDINO\" --no-build-isolation-package groundingdino"
      ],
      "metadata": {
        "id": "C0irMx4hEfT-"
      },
      "id": "C0irMx4hEfT-",
      "execution_count": null,
      "outputs": []
    },
    {
      "cell_type": "code",
      "execution_count": null,
      "id": "o6TX1Rdl6AWc",
      "metadata": {
        "id": "o6TX1Rdl6AWc"
      },
      "outputs": [],
      "source": [
        "# Note that in order to use the uv virtual environment, we must activate it within\n",
        "# the cell. (Colab was giving me trouble creating a uv based kernel...)\n",
        "\n",
        "# To illustrate, notice that the output of the two commands shows different locations\n",
        "# of the python exectuable in use.\n",
        "!source .venv/bin/activate; which python\n",
        "\n",
        "!which python"
      ]
    },
    {
      "cell_type": "code",
      "execution_count": null,
      "id": "fSE0XmHe9OSx",
      "metadata": {
        "id": "fSE0XmHe9OSx"
      },
      "outputs": [],
      "source": [
        "# Unfortunately, we must do something convoluted. We use Jupyter notebook magic\n",
        "# to create a bash script. We then activate the venv. We then run some python code.\n",
        "# We should see PyTorch version 2.5.1.\n",
        "%%bash\n",
        "source .venv/bin/activate\n",
        "\n",
        "python - <<'PY'\n",
        "import torch\n",
        "import torchvision\n",
        "print(\"PyTorch version:\", torch.__version__)\n",
        "print(\"Torchvision version:\", torchvision.__version__)\n",
        "print(\"CUDA is available:\", torch.cuda.is_available())\n",
        "PY"
      ]
    },
    {
      "cell_type": "code",
      "execution_count": null,
      "id": "8vNXVL4GJaGE",
      "metadata": {
        "id": "8vNXVL4GJaGE"
      },
      "outputs": [],
      "source": [
        "# Set environment variables (adpated from setup_env.bash in original egolifter)\n",
        "import os\n",
        "os.environ.update({\n",
        "    \"EGOLIFTER_PATH\":                 \"/content/egolifter\",\n",
        "    \"GSA_PATH\":                       \"/content/egolifter/Grounded-Segment-Anything\",\n",
        "    \"SAM_CHECKPOINT_PATH\":            \"/content/egolifter/sam_vit_h_4b8939.pth\",\n",
        "    \"GROUNDING_DINO_CHECKPOINT_PATH\": \"/content/egolifter/groundingdino_swint_ogc.pth\",\n",
        "    \"SAM_ENCODER_VERSION\":            \"vit_h\",\n",
        "    \"GROUNDING_DINO_CONFIG_PATH\":     \"/content/egolifter/Grounded-Segment-Anything/GroundingDINO/groundingdino/config/GroundingDINO_SwinT_OGC.py\",\n",
        "    \"EFFICIENTSAM_PATH\":              \"/content/egolifter/Grounded-Segment-Anything/EfficientSAM\",\n",
        "    \"TAG2TEXT_PATH\":                  \"/content/egolifter/Grounded-Segment-Anything/Tag2Text\",\n",
        "    \"ADT_DATA_ROOT\":                  \"adt\",\n",
        "    \"ADT_PROCESSED_ROOT\":             \"adt_processed\",\n",
        "    \"AM_I_DOCKER\":                    \"False\",\n",
        "    \"BUILD_WITH_CUDA\":                \"True\",\n",
        "    \"TAG2TEXT_CHECKPOINT_PATH\":       \"/content/egolifter/Grounded-Segment-Anything/Tag2Text/tag2text_swin_14m.pth\",\n",
        "    \"RAM_CHECKPOINT_PATH\":            \"/content/egolifter/Grounded-Segment-Anything/Tag2Text/ram_swin_large_14m.pth\",\n",
        "})"
      ]
    },
    {
      "cell_type": "code",
      "execution_count": null,
      "id": "rnKESTQ4HAqd",
      "metadata": {
        "collapsed": true,
        "id": "rnKESTQ4HAqd"
      },
      "outputs": [],
      "source": [
        "# Download model weights\n",
        "!wget https://dl.fbaipublicfiles.com/segment_anything/sam_vit_h_4b8939.pth\n",
        "!wget https://github.com/IDEA-Research/GroundingDINO/releases/download/v0.1.0-alpha/groundingdino_swint_ogc.pth"
      ]
    },
    {
      "cell_type": "markdown",
      "id": "aiCnm3EaKOdR",
      "metadata": {
        "id": "aiCnm3EaKOdR"
      },
      "source": [
        "# Download Data\n",
        "\n",
        "Make sure you've uploaded your `ADT_download_urls.json` file. Then run the code below."
      ]
    },
    {
      "cell_type": "markdown",
      "id": "kxdehqE58Jsb",
      "metadata": {
        "id": "kxdehqE58Jsb"
      },
      "source": [
        "## Prepare to download data"
      ]
    },
    {
      "cell_type": "code",
      "execution_count": null,
      "id": "f9nuiCHuoLNc",
      "metadata": {
        "id": "f9nuiCHuoLNc"
      },
      "outputs": [],
      "source": [
        "%%bash\n",
        "source .venv/bin/activate\n",
        "\n",
        "python - <<'PY'\n",
        "\n",
        "import os\n",
        "import shutil\n",
        "\n",
        "# Define data directories\n",
        "ADT_DATA_ROOT = os.environ['ADT_DATA_ROOT']\n",
        "ADT_PROCESSED_ROOT = os.environ['ADT_PROCESSED_ROOT']\n",
        "\n",
        "# Create directories if they don't exist\n",
        "os.makedirs(ADT_DATA_ROOT, exist_ok=True)\n",
        "os.makedirs(ADT_PROCESSED_ROOT, exist_ok=True)\n",
        "\n",
        "# Copy the download URLs JSON file\n",
        "source_path = \"/content/ADT_download_urls.json\"  # Update if needed\n",
        "destination_path = os.path.join(ADT_DATA_ROOT, \"ADT_download_urls.json\")\n",
        "shutil.copy(source_path, destination_path)\n",
        "\n",
        "PY"
      ]
    },
    {
      "cell_type": "code",
      "execution_count": null,
      "id": "2qDTDarUL4TO",
      "metadata": {
        "id": "2qDTDarUL4TO"
      },
      "outputs": [],
      "source": [
        "# Copy the vignette images to the dataset\n",
        "!cp assets/vignette_imx577.png ${ADT_DATA_ROOT} # Vignette image for the RGB camera\n",
        "!cp assets/vignette_ov7251.png ${ADT_DATA_ROOT} # Vignette image for the SLAM camera"
      ]
    },
    {
      "cell_type": "code",
      "execution_count": null,
      "id": "aophZsVTpFnN",
      "metadata": {
        "id": "aophZsVTpFnN"
      },
      "outputs": [],
      "source": [
        "# Move the vignette files\n",
        "import shutil\n",
        "\n",
        "# Define the destination paths within the data directory\n",
        "vignette_rgb_destination = os.path.join(os.environ['ADT_DATA_ROOT'], \"vignette_imx577.png\")\n",
        "vignette_slam_destination = os.path.join(os.environ['ADT_DATA_ROOT'], \"vignette_ov7251.png\")\n",
        "\n",
        "# Copy the vignette images\n",
        "shutil.copy(\"assets/vignette_imx577.png\", vignette_rgb_destination)\n",
        "shutil.copy(\"assets/vignette_ov7251.png\", vignette_slam_destination)"
      ]
    },
    {
      "cell_type": "markdown",
      "id": "FvujAFei8MUz",
      "metadata": {
        "id": "FvujAFei8MUz"
      },
      "source": [
        "## Actually download data"
      ]
    },
    {
      "cell_type": "code",
      "execution_count": null,
      "id": "RBv5oq1EL8gx",
      "metadata": {
        "collapsed": true,
        "id": "RBv5oq1EL8gx"
      },
      "outputs": [],
      "source": [
        "# Define the scene names in a Python list. For now, we just have one sample scene.\n",
        "scene_names_new = [\"Apartment_release_golden_skeleton_seq100_10s_sample_M1292\"]\n",
        "scene_names     = [\"Apartment_release_golden_skeleton_seq100_10s_sample\"]\n",
        "\n",
        "# Loop through the scene names and execute the download command for each\n",
        "for scene_name in scene_names_new:\n",
        "    !uvx --from projectaria-tools aria_dataset_downloader \\\n",
        "        -c adt/ADT_download_urls.json \\\n",
        "        -o adt/ \\\n",
        "        -d 0 1 2 3 6 7 \\\n",
        "        -l {scene_name}"
      ]
    },
    {
      "cell_type": "markdown",
      "id": "M2MZcou9VevJ",
      "metadata": {
        "id": "M2MZcou9VevJ"
      },
      "source": [
        "# Process Data (Part 1)"
      ]
    },
    {
      "cell_type": "code",
      "execution_count": null,
      "id": "zYuTDlX1MOsx",
      "metadata": {
        "collapsed": true,
        "id": "zYuTDlX1MOsx"
      },
      "outputs": [],
      "source": [
        "# Process the images to be in a format appropriate for 3dgs\n",
        "for scene_name in scene_names:\n",
        "  !uv run python scripts/process_adt_3dgs.py \\\n",
        "    --data_root adt \\\n",
        "    --output_root adt_processed \\\n",
        "    --sequence_name {scene_name}"
      ]
    },
    {
      "cell_type": "markdown",
      "id": "SyI3zWTwVjy_",
      "metadata": {
        "id": "SyI3zWTwVjy_"
      },
      "source": [
        "# Train on Vanilla 3DGS Pipeline\n",
        "\n",
        "This is a first test of training on the vanilla 3DGS pipeline."
      ]
    },
    {
      "cell_type": "code",
      "execution_count": null,
      "id": "kpeM33itVqtT",
      "metadata": {
        "collapsed": true,
        "id": "kpeM33itVqtT"
      },
      "outputs": [],
      "source": [
        "# Run the vanilla 3dgs pipeline.\n",
        "# It will ask if you want to log into wandb to visualize training progress/logs\n",
        "# Run the code. In Colab, we must limit number of worker threads to 2.\n",
        "# Set this to True to run the sample. We won't this by default. But this can\n",
        "# be a good first test before moving on to the more complicated stuff below.\n",
        "run_vanilla_3dgs_sample = True\n",
        "\n",
        "if  run_vanilla_3dgs_sample:\n",
        "  !uv run python train_lightning.py \\\n",
        "    scene.scene_name=Apartment_release_golden_skeleton_seq100_10s_sample \\\n",
        "    scene.data_root=$ADT_PROCESSED_ROOT \\\n",
        "    exp_name=3dgs \\\n",
        "    output_root=./output/adt \\\n",
        "    wandb.project=egolifter_adt \\\n",
        "    scene.num_workers=2"
      ]
    },
    {
      "cell_type": "markdown",
      "id": "hnV0BUJlVjaA",
      "metadata": {
        "id": "hnV0BUJlVjaA"
      },
      "source": [
        "# Process Data (Part 2)"
      ]
    },
    {
      "cell_type": "markdown",
      "id": "eWd4q5ykCnzU",
      "metadata": {
        "id": "eWd4q5ykCnzU"
      },
      "source": [
        "## Segmentation"
      ]
    },
    {
      "cell_type": "code",
      "execution_count": null,
      "id": "QXe-6Qx50FFL",
      "metadata": {
        "id": "QXe-6Qx50FFL"
      },
      "outputs": [],
      "source": [
        "# Generate the SAM segmentation results. This takes about 20 to 30 minutes on a T4,\n",
        "# or about 10 minutes with an A100.\n",
        "!uv run python scripts/generate_gsa_results.py \\\n",
        "  -i adt_processed/Apartment_release_golden_skeleton_seq100_10s_sample \\\n",
        "  --class_set none \\\n",
        "  --sam_variant sam \\\n",
        "  --max_longer_side 512 \\\n",
        "  --no_clip"
      ]
    },
    {
      "cell_type": "markdown",
      "id": "c1xmw1FyVoAe",
      "metadata": {
        "id": "c1xmw1FyVoAe"
      },
      "source": [
        "## Generate evaluation target for query-based segmentation"
      ]
    },
    {
      "cell_type": "markdown",
      "id": "TzrOtgtLV-mt",
      "metadata": {
        "id": "TzrOtgtLV-mt"
      },
      "source": [
        "### generate_2dseg_query"
      ]
    },
    {
      "cell_type": "code",
      "execution_count": null,
      "id": "qK0OON4YVZBR",
      "metadata": {
        "id": "qK0OON4YVZBR"
      },
      "outputs": [],
      "source": [
        "# This takes about 4 minutes\n",
        "%%bash\n",
        "source .venv/bin/activate\n",
        "\n",
        "SCENE_NAME=\"Apartment_release_golden_skeleton_seq100_10s_sample\"\n",
        "\n",
        "uv run python scripts/generate_2dseg_query.py \\\n",
        "  --data_root $ADT_PROCESSED_ROOT \\\n",
        "  --scene_name $SCENE_NAME"
      ]
    },
    {
      "cell_type": "markdown",
      "id": "QubihMKnVzAV",
      "metadata": {
        "id": "QubihMKnVzAV"
      },
      "source": [
        "### generate_2dseg_query_sample"
      ]
    },
    {
      "cell_type": "code",
      "execution_count": null,
      "id": "JekyxcltV1Pp",
      "metadata": {
        "id": "JekyxcltV1Pp"
      },
      "outputs": [],
      "source": [
        "%%bash\n",
        "source .venv/bin/activate\n",
        "\n",
        "SCENE_NAME=\"Apartment_release_golden_skeleton_seq100_10s_sample\"\n",
        "\n",
        "uv run python scripts/generate_2dseg_query_sample.py \\\n",
        "  --data_root $ADT_PROCESSED_ROOT \\\n",
        "  --scene_name $SCENE_NAME"
      ]
    },
    {
      "cell_type": "markdown",
      "id": "vZ79ETIWVvbG",
      "metadata": {
        "id": "vZ79ETIWVvbG"
      },
      "source": [
        "### generate_3dbox_query"
      ]
    },
    {
      "cell_type": "code",
      "execution_count": null,
      "id": "u_bDOMz1aTx2",
      "metadata": {
        "id": "u_bDOMz1aTx2"
      },
      "outputs": [],
      "source": [
        "%%bash\n",
        "source .venv/bin/activate\n",
        "\n",
        "SCENE_NAME=\"Apartment_release_golden_skeleton_seq100_10s_sample\"\n",
        "\n",
        "uv run python scripts/generate_3dbox_query.py \\\n",
        "  --raw_root $ADT_DATA_ROOT \\\n",
        "  --data_root $ADT_PROCESSED_ROOT \\\n",
        "  --scene_name $SCENE_NAME"
      ]
    },
    {
      "cell_type": "markdown",
      "id": "2lW3faB7WSt1",
      "metadata": {
        "id": "2lW3faB7WSt1"
      },
      "source": [
        "# EgoLifter (full method)"
      ]
    },
    {
      "cell_type": "code",
      "execution_count": null,
      "id": "V0PQoW9iWao-",
      "metadata": {
        "id": "V0PQoW9iWao-"
      },
      "outputs": [],
      "source": [
        "# EgoLifter (full method). This takes about 2 hours on an A100 or\n",
        "# about 5 hours on T5.\n",
        "# Note that on Colab, we must limit the number of worker threads to 2.\n",
        "!uv run python train_lightning.py \\\n",
        "    scene.scene_name=\"Apartment_release_golden_skeleton_seq100_10s_sample\" \\\n",
        "    scene.data_root=$ADT_PROCESSED_ROOT \\\n",
        "    model=unc_2d_unet \\\n",
        "    model.unet_acti=sigmoid \\\n",
        "    model.dim_extra=16 \\\n",
        "    lift.use_contr=True \\\n",
        "    exp_name=egolifter \\\n",
        "    output_root=./output/adt \\\n",
        "    wandb.project=egolifter_adt \\\n",
        "    scene.num_workers=2"
      ]
    },
    {
      "cell_type": "markdown",
      "id": "n07O8r-fQkWS",
      "metadata": {
        "id": "n07O8r-fQkWS"
      },
      "source": [
        "# Save results\n",
        "We can save our results to Google Drive to persist them."
      ]
    },
    {
      "cell_type": "code",
      "execution_count": null,
      "id": "smd-2rjJQoHM",
      "metadata": {
        "id": "smd-2rjJQoHM"
      },
      "outputs": [],
      "source": [
        "import shutil, pathlib\n",
        "from google.colab import drive\n",
        "\n",
        "save_results = True\n",
        "\n",
        "if save_results:\n",
        "  drive.mount('/content/drive')\n",
        "\n",
        "  # You can change these paths, as needed\n",
        "  src = pathlib.Path('/content/egolifter/output')\n",
        "  dst = pathlib.Path('/content/drive/MyDrive/egolifter/output')\n",
        "  shutil.copytree(src, dst, dirs_exist_ok=True)"
      ]
    },
    {
      "cell_type": "code",
      "execution_count": null,
      "id": "9I8EpuzeWXvU",
      "metadata": {
        "id": "9I8EpuzeWXvU"
      },
      "outputs": [],
      "source": [
        "# Also, we can optionally save the preprocessed data. This will speed things\n",
        "# up in the future - we don't need to re-preprocess the data!\n",
        "save_processed_data = True\n",
        "\n",
        "if save_processed_data:\n",
        "  # You can change these paths, as needed\n",
        "  src = pathlib.Path('/content/egolifter/adt_processed')\n",
        "  dst = pathlib.Path('/content/drive/MyDrive/egolifter/')\n",
        "  shutil.copytree(src, dst, dirs_exist_ok=True)"
      ]
    }
  ],
  "metadata": {
    "accelerator": "GPU",
    "colab": {
      "gpuType": "L4",
      "provenance": [],
      "include_colab_link": true
    },
    "kernelspec": {
      "display_name": "Python 3",
      "name": "python3"
    },
    "language_info": {
      "name": "python"
    }
  },
  "nbformat": 4,
  "nbformat_minor": 5
}