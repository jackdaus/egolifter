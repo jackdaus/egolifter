{
 "cells": [
  {
   "cell_type": "markdown",
   "id": "fb0207e2",
   "metadata": {},
   "source": [
    "# New contrast method\n",
    "\n",
    "Testing out a new contrast method. "
   ]
  },
  {
   "cell_type": "code",
   "execution_count": null,
   "id": "27401353",
   "metadata": {},
   "outputs": [],
   "source": [
    "from hydra import initialize, compose\n",
    "from omegaconf import OmegaConf\n",
    "\n",
    "# Initialize Hydra with the directory where your config lives.\n",
    "# Note that hydra will tkae care of composing all our disparate config files\n",
    "with initialize(config_path=\"conf\", job_name=\"notebook_app\"):\n",
    "    # Compose the configuration, using \"train\" as the config name.\n",
    "    cfg = compose(config_name=\"train\", \n",
    "                  overrides=[\n",
    "                      \"model=vanilla_contrast_v3\",\n",
    "                      \"scene.data_root=/home/ubuntu/cs-747-project/adt_processed\",\n",
    "                      \"scene.scene_name=Apartment_release_work_skeleton_seq131\",\n",
    "                      \"output_root=/home/ubuntu/cs-747-project/output/adt\",\n",
    "                      \"exp_name=3dgs_new_contrast-1\",\n",
    "                      \"lift.use_contr=True\",\n",
    "                      \"wandb.project=egolifter_adt\"\n",
    "                  ])"
   ]
  },
  {
   "cell_type": "code",
   "execution_count": null,
   "id": "cc3a978a",
   "metadata": {},
   "outputs": [],
   "source": [
    "# Now you can use cfg to see what was loaded.\n",
    "print(OmegaConf.to_yaml(cfg))"
   ]
  },
  {
   "cell_type": "code",
   "execution_count": null,
   "id": "e07d96b4",
   "metadata": {},
   "outputs": [],
   "source": [
    "# Make the output directory\n",
    "import os\n",
    "os.makedirs(cfg.scene.model_path, exist_ok=True)"
   ]
  },
  {
   "cell_type": "code",
   "execution_count": null,
   "id": "e5760ee7",
   "metadata": {},
   "outputs": [],
   "source": [
    "# Set up the logger (wandb)\n",
    "from lightning.pytorch.loggers import WandbLogger\n",
    "\n",
    "# Make the wandb directory\n",
    "os.makedirs(os.path.join(cfg.scene.model_path, \"wandb\"), exist_ok=True)\n",
    "os.makedirs(cfg.wandb.save_dir, exist_ok=True)\n",
    "\n",
    "# Create the logger\n",
    "logger = WandbLogger(\n",
    "    project=cfg.wandb.project, \n",
    "    entity=cfg.wandb.entity,\n",
    "    name=cfg.exp_name,\n",
    "    save_dir=cfg.wandb.save_dir,\n",
    ")\n",
    "\n",
    "# Tell the logger what hyperparameters to log\n",
    "logger.log_hyperparams(OmegaConf.to_container(cfg, resolve=True))"
   ]
  },
  {
   "cell_type": "code",
   "execution_count": null,
   "id": "45b6c067",
   "metadata": {},
   "outputs": [],
   "source": [
    "# (OPTIONAL) And save the config to the output directory\n",
    "# This is useful for keeping track of what you ran\n",
    "OmegaConf.save(cfg, os.path.join(cfg.scene.model_path, \"config.yaml\"), resolve=True)"
   ]
  },
  {
   "cell_type": "code",
   "execution_count": null,
   "id": "55c6cfa3",
   "metadata": {},
   "outputs": [],
   "source": [
    "import lightning as L\n",
    "from scene import Scene\n",
    "\n",
    "# Set the seed for reproducibility\n",
    "L.seed_everything(cfg.seed)\n",
    "\n",
    "# Create a new scene object\n",
    "scene = Scene(cfg)"
   ]
  },
  {
   "cell_type": "code",
   "execution_count": null,
   "id": "60435888",
   "metadata": {},
   "outputs": [],
   "source": [
    "from model import get_model\n",
    "\n",
    "# Load the model. This is one of our LightningModules (i.e., VanillaGaussian, Unc2DUnet, etc.)\n",
    "model = get_model(cfg, scene)\n",
    "print(model)"
   ]
  },
  {
   "cell_type": "code",
   "execution_count": null,
   "id": "6343b12f",
   "metadata": {},
   "outputs": [],
   "source": [
    "# This will load an initial point cloud. The point cloud is loaded from scene.scene_info.point_cloud, which was initialized\n",
    "# above in the Scene class. Internally, that comes from global_points.csv.gz file (Aria dataset only; other datasets \n",
    "# init this differently).\n",
    "model.init_or_load_gaussians(\n",
    "    scene.scene_info.point_cloud,\n",
    "    scene.scene_info.nerf_normalization[\"radius\"], # NOTE: not sure that this does... \n",
    "    cfg.scene.model_path,\n",
    "    load_iteration = None,\n",
    ")"
   ]
  },
  {
   "cell_type": "code",
   "execution_count": null,
   "id": "69f14ef6",
   "metadata": {},
   "outputs": [],
   "source": [
    "# Loop over the model to print the parameters\n",
    "for name, param in model.named_parameters():\n",
    "    print(name, param.shape)"
   ]
  },
  {
   "cell_type": "code",
   "execution_count": null,
   "id": "3b34556c",
   "metadata": {},
   "outputs": [],
   "source": [
    "# Load the data loader. This is a PyTorch DataLoader object that will load the data for training.\n",
    "train_loader = scene.get_data_loader(\"train\", shuffle=True, num_workers=cfg.scene.num_workers)\n",
    "valid_loader = scene.get_data_loader(\"valid\", shuffle=False, num_workers=cfg.scene.num_workers)\n",
    "valid_novel_loader = scene.get_data_loader(\"valid_novel\", shuffle=False, num_workers=cfg.scene.num_workers)"
   ]
  },
  {
   "cell_type": "code",
   "execution_count": null,
   "id": "2a7f8b70",
   "metadata": {},
   "outputs": [],
   "source": [
    "from callback.checkpoint import ModelCheckpoint\n",
    "\n",
    "# Set up the checkpoint callback. This will save the model every n steps.\n",
    "checkpoint_callback = ModelCheckpoint(\n",
    "    dirpath=cfg.scene.model_path,\n",
    "    filename=\"chkpnt{step}\",\n",
    "    save_top_k=-1,\n",
    "    verbose=True,\n",
    "    monitor=None,\n",
    "    every_n_train_steps = cfg.opt.ckpt_every_n_steps,\n",
    ")\n",
    "\n",
    "# Init the trainer\n",
    "trainer = L.Trainer(\n",
    "    max_steps=cfg.opt.iterations,\n",
    "    logger=logger,\n",
    "    check_val_every_n_epoch=None,\n",
    "    val_check_interval = cfg.opt.val_every_n_steps,\n",
    "    callbacks=[checkpoint_callback],\n",
    "    devices=cfg.gpus, \n",
    ")"
   ]
  },
  {
   "cell_type": "code",
   "execution_count": null,
   "id": "c14c2c65",
   "metadata": {},
   "outputs": [],
   "source": [
    "# Train the model!\n",
    "trainer.fit(\n",
    "    model=model,\n",
    "    train_dataloaders=train_loader,\n",
    "    val_dataloaders=[valid_loader, valid_novel_loader],\n",
    ")"
   ]
  },
  {
   "cell_type": "markdown",
   "id": "a08530fc",
   "metadata": {},
   "source": [
    "# Eval"
   ]
  },
  {
   "cell_type": "code",
   "execution_count": null,
   "id": "40ca029c",
   "metadata": {},
   "outputs": [],
   "source": [
    "import pandas as pd\n",
    "# Evaluation\n",
    "if not cfg.skip_test:\n",
    "    for subset in [\"test\", \"valid\", \"valid_novel\", \"train\"]:\n",
    "        loader = scene.get_data_loader(subset, shuffle=False)\n",
    "        if len(loader) > 0:\n",
    "            trainer.test(\n",
    "                model=model,\n",
    "                dataloaders=loader,\n",
    "            )\n",
    "            df = pd.DataFrame(model.test_logs)\n",
    "            df.to_csv(os.path.join(cfg.scene.model_path, f\"eval_logs_{subset}.csv\"), index=False)"
   ]
  },
  {
   "cell_type": "code",
   "execution_count": null,
   "id": "0ecdf665",
   "metadata": {},
   "outputs": [],
   "source": [
    "from utils.eval_2dseg import eval_query_2dseg\n",
    "import wandb\n",
    "from pathlib import Path\n",
    "\n",
    "# Evaluate the 2D segmentation\n",
    "if cfg.lift.use_contr:\n",
    "    if scene.scene_info.query_2dseg is None:\n",
    "        print(\"No 2D segmentation query found in the scene info. Skipping 2D segmentation evaluation.\")\n",
    "    else:\n",
    "        # Copy the to a new model to avoid a weird memory illegal access error\n",
    "        model_eval = get_model(cfg, scene)\n",
    "        model_eval.init_gaussians_size_from_state_dict(model.state_dict())\n",
    "        model_eval.load_state_dict(model.state_dict())\n",
    "        model_eval = model_eval.eval().cuda()\n",
    "        \n",
    "        for subset in [\"test\", \"valid\", \"valid_novel\", \"train\"]:\n",
    "            print(f\"Evaluating subset: {subset} ...\")\n",
    "            dataloader = scene.get_data_loader(subset, shuffle=False, num_workers=0, limit=200)\n",
    "            threshold_mode = \"fixed\"\n",
    "            threshold_value = 0.6\n",
    "            static_miou, dynamic_miou, df_eval_logs = eval_query_2dseg(\n",
    "                scene, dataloader, model_eval, threshold_mode, threshold_value)\n",
    "            print(f\"{subset}: static mIoU: {static_miou}, dynamic mIoU: {dynamic_miou}\")\n",
    "            \n",
    "            wandb.log({\n",
    "                f\"2dseg_static/{subset}_miou\": static_miou,\n",
    "                f\"2dseg_dynamic/{subset}_miou\": dynamic_miou,\n",
    "            })\n",
    "            \n",
    "            # Save the evaluation logs to the ckpt_folder\n",
    "            save_path = Path(cfg.scene.model_path) / \"2dseg_eval\" / f\"{subset}_logs_{threshold_mode}_{threshold_value}.csv\"\n",
    "            save_path.parent.mkdir(parents=True, exist_ok=True)\n",
    "            df_eval_logs.to_csv(save_path, index=False)"
   ]
  },
  {
   "cell_type": "code",
   "execution_count": null,
   "id": "f45a7aea",
   "metadata": {},
   "outputs": [],
   "source": [
    "import os\n",
    "\n",
    "os.environ[\"SCENE_NAME\"] = cfg.scene.scene_name\n",
    "os.environ[\"ADT_PROCESSED_ROOT\"] = cfg.scene.data_root\n",
    "os.environ[\"FOLDER_NAME\"] = 'vanilla_3dgs'\n",
    "os.environ[\"OUTPUT_ROOT\"] = cfg.output_root"
   ]
  },
  {
   "cell_type": "code",
   "execution_count": null,
   "id": "e93cd006",
   "metadata": {},
   "outputs": [],
   "source": [
    "# Render the images into a video \n",
    "# Select render_subset as one of the subset of images to render\n",
    "# render_subset=novel        # novel subset\n",
    "# render_subset=trainvalid   # seen subset\n",
    "\n",
    "!uv run python render_lightning.py \\\n",
    "    model_path=$OUTPUT_ROOT/$SCENE_NAME/$FOLDER_NAME \\\n",
    "    render_subset=novel \\\n",
    "    source_path=$ADT_PROCESSED_ROOT/$SCENE_NAME"
   ]
  },
  {
   "cell_type": "code",
   "execution_count": null,
   "id": "b074d19a",
   "metadata": {},
   "outputs": [],
   "source": []
  }
 ],
 "metadata": {
  "kernelspec": {
   "display_name": "egolifter",
   "language": "python",
   "name": "egolifter"
  },
  "language_info": {
   "codemirror_mode": {
    "name": "ipython",
    "version": 3
   },
   "file_extension": ".py",
   "mimetype": "text/x-python",
   "name": "python",
   "nbconvert_exporter": "python",
   "pygments_lexer": "ipython3",
   "version": "3.10.12"
  }
 },
 "nbformat": 4,
 "nbformat_minor": 5
}
