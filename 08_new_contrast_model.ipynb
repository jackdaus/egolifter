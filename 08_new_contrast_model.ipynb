{
 "cells": [
  {
   "cell_type": "markdown",
   "id": "fb0207e2",
   "metadata": {},
   "source": [
    "# New contrast method\n",
    "\n",
    "Testing out a new contrast method. "
   ]
  },
  {
   "cell_type": "code",
   "execution_count": null,
   "id": "27401353",
   "metadata": {},
   "outputs": [],
   "source": [
    "from hydra import initialize, compose\n",
    "from omegaconf import OmegaConf\n",
    "\n",
    "# Initialize Hydra with the directory where your config lives.\n",
    "# Note that hydra will tkae care of composing all our disparate config files\n",
    "with initialize(config_path=\"conf\", job_name=\"notebook_app\"):\n",
    "    # Compose the configuration, using \"train\" as the config name.\n",
    "    cfg = compose(config_name=\"train\", \n",
    "                  overrides=[\n",
    "                      \"model=vanilla_contrast_v3\",\n",
    "                      \"scene.data_root=/home/jackd/source/egolifter/adt_processed\",\n",
    "                      \"scene.scene_name=Apartment_release_golden_skeleton_seq100_10s_sample\",\n",
    "                      \"output_root=./output/adt\",\n",
    "                      \"exp_name=3dgs_new_contrast\",\n",
    "                      \"lift.use_contr=True\",\n",
    "                      \"wandb.project=egolifter_adt\"\n",
    "                  ])"
   ]
  },
  {
   "cell_type": "code",
   "execution_count": null,
   "id": "cc3a978a",
   "metadata": {},
   "outputs": [],
   "source": [
    "# Now you can use cfg to see what was loaded.\n",
    "print(OmegaConf.to_yaml(cfg))"
   ]
  },
  {
   "cell_type": "code",
   "execution_count": null,
   "id": "e07d96b4",
   "metadata": {},
   "outputs": [],
   "source": [
    "# Make the output directory\n",
    "import os\n",
    "os.makedirs(cfg.scene.model_path, exist_ok=True)"
   ]
  },
  {
   "cell_type": "code",
   "execution_count": null,
   "id": "e5760ee7",
   "metadata": {},
   "outputs": [],
   "source": [
    "# Set up the logger (wandb)\n",
    "from lightning.pytorch.loggers import WandbLogger\n",
    "\n",
    "# Make the wandb directory\n",
    "os.makedirs(os.path.join(cfg.scene.model_path, \"wandb\"), exist_ok=True)\n",
    "os.makedirs(cfg.wandb.save_dir, exist_ok=True)\n",
    "\n",
    "# Create the logger\n",
    "logger = WandbLogger(\n",
    "    project=cfg.wandb.project, \n",
    "    entity=cfg.wandb.entity,\n",
    "    name=cfg.exp_name,\n",
    "    save_dir=cfg.wandb.save_dir,\n",
    ")\n",
    "\n",
    "# Tell the logger what hyperparameters to log\n",
    "logger.log_hyperparams(OmegaConf.to_container(cfg, resolve=True))"
   ]
  },
  {
   "cell_type": "code",
   "execution_count": null,
   "id": "45b6c067",
   "metadata": {},
   "outputs": [],
   "source": [
    "# (OPTIONAL) And save the config to the output directory\n",
    "# This is useful for keeping track of what you ran\n",
    "OmegaConf.save(cfg, os.path.join(cfg.scene.model_path, \"config.yaml\"), resolve=True)"
   ]
  },
  {
   "cell_type": "code",
   "execution_count": null,
   "id": "55c6cfa3",
   "metadata": {},
   "outputs": [],
   "source": [
    "import lightning as L\n",
    "from scene import Scene\n",
    "\n",
    "# Set the seed for reproducibility\n",
    "L.seed_everything(cfg.seed)\n",
    "\n",
    "# Create a new scene object\n",
    "scene = Scene(cfg)"
   ]
  },
  {
   "cell_type": "code",
   "execution_count": null,
   "id": "60435888",
   "metadata": {},
   "outputs": [],
   "source": [
    "from model import get_model\n",
    "\n",
    "# Load the model. This is one of our LightningModules (i.e., VanillaGaussian, Unc2DUnet, etc.)\n",
    "model = get_model(cfg, scene)\n",
    "print(model)"
   ]
  },
  {
   "cell_type": "code",
   "execution_count": null,
   "id": "6343b12f",
   "metadata": {},
   "outputs": [],
   "source": [
    "# This will load an initial point cloud. The point cloud is loaded from scene.scene_info.point_cloud, which was initialized\n",
    "# above in the Scene class. Internally, that comes from global_points.csv.gz file (Aria dataset only; other datasets \n",
    "# init this differently).\n",
    "model.init_or_load_gaussians(\n",
    "    scene.scene_info.point_cloud,\n",
    "    scene.scene_info.nerf_normalization[\"radius\"], # NOTE: not sure that this does... \n",
    "    cfg.scene.model_path,\n",
    "    load_iteration = None,\n",
    ")"
   ]
  },
  {
   "cell_type": "code",
   "execution_count": null,
   "id": "69f14ef6",
   "metadata": {},
   "outputs": [],
   "source": [
    "# Loop over the model to print the parameters\n",
    "for name, param in model.named_parameters():\n",
    "    print(name, param.shape)"
   ]
  },
  {
   "cell_type": "code",
   "execution_count": null,
   "id": "3b34556c",
   "metadata": {},
   "outputs": [],
   "source": [
    "# Load the data loader. This is a PyTorch DataLoader object that will load the data for training.\n",
    "train_loader = scene.get_data_loader(\"train\", shuffle=True, num_workers=cfg.scene.num_workers)\n",
    "valid_loader = scene.get_data_loader(\"valid\", shuffle=False, num_workers=cfg.scene.num_workers)\n",
    "valid_novel_loader = scene.get_data_loader(\"valid_novel\", shuffle=False, num_workers=cfg.scene.num_workers)"
   ]
  },
  {
   "cell_type": "code",
   "execution_count": null,
   "id": "2a7f8b70",
   "metadata": {},
   "outputs": [],
   "source": [
    "# Init the trainer\n",
    "trainer = L.Trainer(\n",
    "    max_steps=cfg.opt.iterations,\n",
    "    logger=logger,\n",
    "    check_val_every_n_epoch=None,\n",
    "    val_check_interval = cfg.opt.val_every_n_steps, # validation after every 5000 steps\n",
    "    # callbacks=[checkpoint_callback],\n",
    "    devices=cfg.gpus, \n",
    ")"
   ]
  },
  {
   "cell_type": "code",
   "execution_count": null,
   "id": "c14c2c65",
   "metadata": {},
   "outputs": [],
   "source": [
    "# Train the model!\n",
    "trainer.fit(\n",
    "    model=model,\n",
    "    train_dataloaders=train_loader,\n",
    "    val_dataloaders=[valid_loader, valid_novel_loader],\n",
    ")"
   ]
  },
  {
   "cell_type": "code",
   "execution_count": null,
   "id": "40ca029c",
   "metadata": {},
   "outputs": [],
   "source": []
  }
 ],
 "metadata": {
  "kernelspec": {
   "display_name": "egolifter",
   "language": "python",
   "name": "egolifter"
  },
  "language_info": {
   "codemirror_mode": {
    "name": "ipython",
    "version": 3
   },
   "file_extension": ".py",
   "mimetype": "text/x-python",
   "name": "python",
   "nbconvert_exporter": "python",
   "pygments_lexer": "ipython3",
   "version": "3.12.3"
  }
 },
 "nbformat": 4,
 "nbformat_minor": 5
}
