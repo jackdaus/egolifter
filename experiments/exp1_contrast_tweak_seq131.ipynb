{
 "cells": [
  {
   "cell_type": "markdown",
   "id": "baed4327",
   "metadata": {},
   "source": [
    "# Expriment 1: Tweak the contrast function\n",
    "\n",
    "This experiments removes the second `exp` in `ConstrastManagerV2`. Here, we test on `Apartment_release_work_skeleton_seq131` dataset."
   ]
  },
  {
   "cell_type": "code",
   "execution_count": null,
   "id": "e3661dd0",
   "metadata": {},
   "outputs": [],
   "source": [
    "import os\n",
    "\n",
    "# Set environment variables for training script\n",
    "SCENE_NAME='Apartment_release_work_skeleton_seq131'\n",
    "ADT_PROCESSED_ROOT='/home/ubuntu/cs-747-project/adt_processed'\n",
    "OUT_PATH='/home/ubuntu/cs-747-project/output/adt'\n",
    "FOLDER_NAME='unc_2d_unet_egolifter_contrast_v2'\n",
    "\n",
    "os.environ.update({\n",
    "    \"SCENE_NAME\":         SCENE_NAME,\n",
    "    \"ADT_PROCESSED_ROOT\": ADT_PROCESSED_ROOT,\n",
    "    \"OUT_PATH\":           OUT_PATH,\n",
    "    \"FOLDER_NAME\":        FOLDER_NAME,\n",
    "})"
   ]
  },
  {
   "cell_type": "code",
   "execution_count": null,
   "id": "be3bd228",
   "metadata": {},
   "outputs": [],
   "source": [
    "!pwd\n",
    "!ls /home/ubuntu/cs-747-project/adt_processed"
   ]
  },
  {
   "cell_type": "code",
   "execution_count": null,
   "id": "48a849da",
   "metadata": {},
   "outputs": [],
   "source": [
    "# Run the training script. Use constrast v2 \n",
    "!uv run python ../train_lightning.py \\\n",
    "\tscene.scene_name={SCENE_NAME} \\\n",
    "    scene.data_root={ADT_PROCESSED_ROOT} \\\n",
    "    model=unc_2d_unet \\\n",
    "    model.unet_acti=sigmoid \\\n",
    "    model.dim_extra=16 \\\n",
    "    lift.use_contr=True \\\n",
    "    lift.name=v2 \\\n",
    "    exp_name=egolifter_contrast_v2 \\\n",
    "    output_root={OUT_PATH} \\\n",
    "    wandb.project=egolifter_adt"
   ]
  },
  {
   "cell_type": "markdown",
   "id": "343e61e3",
   "metadata": {},
   "source": [
    "# View results"
   ]
  },
  {
   "cell_type": "code",
   "execution_count": null,
   "id": "b189c5ad",
   "metadata": {},
   "outputs": [],
   "source": [
    "# Select one of the output folder from below\n",
    "os.environ.update({\n",
    "    \"FOLDER_NAME\": \"unc_2d_unet_egolifter_contrast_v2\",\n",
    "})\n",
    "\n",
    "!echo \"Running with folder name: {OUT_PATH}/{SCENE_NAME}/{FOLDER_NAME}\"\n",
    "\n",
    "# This will start a local server \n",
    "# open the browser and go to the link for visualization\n",
    "!uv run python ../viewer.py \\\n",
    "    {OUT_PATH}/{SCENE_NAME}/{FOLDER_NAME} \\\n",
    "    --data_root {ADT_PROCESSED_ROOT}  \\\n",
    "    --reorient disable \\\n",
    "    --feat_pca"
   ]
  },
  {
   "cell_type": "markdown",
   "id": "5cafa3ef",
   "metadata": {},
   "source": [
    "# Load the model and explore learned features"
   ]
  },
  {
   "cell_type": "code",
   "execution_count": null,
   "id": "de8994d4",
   "metadata": {},
   "outputs": [],
   "source": [
    "import sys, os\n",
    "sys.path.append(os.path.join(os.path.dirname(os.getcwd())))\n",
    "\n",
    "from utils.routines import load_from_model_path\n",
    "\n",
    "model_path = f'{OUT_PATH}/{SCENE_NAME}/{FOLDER_NAME}'\n",
    "source_path= f'{ADT_PROCESSED_ROOT}/{SCENE_NAME}'\n",
    "\n",
    "model, scene, cfg = load_from_model_path(\n",
    "    model_path,\n",
    "    source_path\n",
    ")"
   ]
  },
  {
   "cell_type": "code",
   "execution_count": null,
   "id": "38773cf3",
   "metadata": {},
   "outputs": [],
   "source": [
    "# Print data statistics summary using pandas\n",
    "import pandas as pd\n",
    "import numpy as np\n",
    "import matplotlib.pyplot as plt\n",
    "import seaborn as sns\n",
    "import os\n",
    "\n",
    "# Load the data\n",
    "data = model.gaussians.get_features_extra.detach().cpu().numpy()\n",
    "# Convert to DataFrame\n",
    "df = pd.DataFrame(data, columns=[f'Feature_{i}' for i in range(data.shape[1])])\n",
    "# Print the first few rows\n",
    "# print(df.head())\n",
    "# Print the summary statistics\n",
    "print(df.describe())\n",
    "# Plot the distribution of each feature in a grid\n",
    "num_features = len(df.columns)\n",
    "num_cols = 4  # Number of columns in the grid\n",
    "num_rows = (num_features + num_cols - 1) // num_cols  # Calculate required rows\n",
    "\n",
    "fig, axes = plt.subplots(num_rows, num_cols, figsize=(20, 4 * num_rows))\n",
    "axes = axes.flatten()\n",
    "\n",
    "for i, column in enumerate(df.columns):\n",
    "    sns.histplot(df[column], bins=30, kde=True, ax=axes[i])\n",
    "    axes[i].set_title(f'Distribution of {column}')\n",
    "    axes[i].set_xlabel(column)\n",
    "    axes[i].set_ylabel('Frequency')\n",
    "\n",
    "# Hide any unused subplots\n",
    "for j in range(i + 1, len(axes)):\n",
    "    fig.delaxes(axes[j])\n",
    "\n",
    "plt.tight_layout()\n",
    "plt.show()"
   ]
  },
  {
   "cell_type": "code",
   "execution_count": null,
   "id": "7dfceaa5",
   "metadata": {},
   "outputs": [],
   "source": [
    "# Perform PCA\n",
    "from sklearn.decomposition import PCA\n",
    "from sklearn.preprocessing import StandardScaler\n",
    "from sklearn.pipeline import make_pipeline\n",
    "from sklearn.preprocessing import StandardScaler\n",
    "from sklearn.decomposition import PCA\n",
    "import matplotlib.pyplot as plt\n",
    "import seaborn as sns\n",
    "import numpy as np\n",
    "import pandas as pd\n",
    "\n",
    "# Load the data\n",
    "data = model.gaussians.get_features_extra.detach().cpu().numpy()\n",
    "# Standardize the data\n",
    "scaler = StandardScaler()\n",
    "data_scaled = scaler.fit_transform(data)\n",
    "# Perform PCA\n",
    "pca = PCA(n_components=2)\n",
    "data_pca = pca.fit_transform(data_scaled)\n",
    "# Create a DataFrame for the PCA results\n",
    "df_pca = pd.DataFrame(data_pca, columns=['PC1', 'PC2'])\n",
    "# Plot the PCA results\n",
    "plt.figure(figsize=(10, 6))\n",
    "sns.scatterplot(x='PC1', y='PC2', data=df_pca)\n",
    "plt.title('PCA of Features')\n",
    "plt.xlabel('Principal Component 1')\n",
    "plt.ylabel('Principal Component 2')\n",
    "plt.grid()\n",
    "plt.show()"
   ]
  },
  {
   "cell_type": "markdown",
   "id": "0ea2d734",
   "metadata": {},
   "source": [
    "# T-SNE"
   ]
  },
  {
   "cell_type": "markdown",
   "id": "093d66e2",
   "metadata": {},
   "source": [
    "## T-SNE 2D"
   ]
  },
  {
   "cell_type": "code",
   "execution_count": null,
   "id": "4b846638",
   "metadata": {},
   "outputs": [],
   "source": [
    "# We need the data to be standardized\n",
    "data_standardized = StandardScaler().fit_transform(data)"
   ]
  },
  {
   "cell_type": "code",
   "execution_count": null,
   "id": "d83bde47",
   "metadata": {},
   "outputs": [],
   "source": [
    "from sklearn.neighbors import NearestNeighbors\n",
    "\n",
    "# Calculate the neighborhoods in the embedding space\n",
    "data_standardized = StandardScaler().fit_transform(data)\n",
    "knn = NearestNeighbors(n_neighbors=15, metric=\"cosine\").fit(data_standardized)\n",
    "knn_graph = knn.kneighbors_graph(mode=\"distance\")     # sparse matrix"
   ]
  },
  {
   "cell_type": "code",
   "execution_count": null,
   "id": "c6de1a3f",
   "metadata": {},
   "outputs": [],
   "source": [
    "# Calculate tsne\n",
    "from sklearn.manifold import TSNE\n",
    "tsne = TSNE(n_components=2, perplexity=30, n_iter=300, random_state=42)\n",
    "X_tsne = tsne.fit_transform(data_standardized)\n",
    "# Plot the t-SNE results\n",
    "plt.figure(figsize=(10, 6))\n",
    "plt.scatter(X_tsne[:, 0], X_tsne[:, 1], s=5)\n",
    "plt.title('t-SNE of Features')\n",
    "plt.xlabel('t-SNE Component 1')\n",
    "plt.ylabel('t-SNE Component 2')\n",
    "plt.grid()\n",
    "plt.show()"
   ]
  },
  {
   "cell_type": "code",
   "execution_count": null,
   "id": "fde20bfa",
   "metadata": {},
   "outputs": [],
   "source": [
    "# 3D t-SNE\n",
    "# from mpl_toolkits.mplot3d import Ax\n",
    "# import Axes3D\n",
    "from mpl_toolkits.mplot3d import Axes3D\n",
    "\n",
    "import matplotlib.pyplot as plt\n",
    "from mpl_toolkits.mplot3d import Axes3D\n",
    "import numpy as np\n",
    "from sklearn.manifold import TSNE\n",
    "from sklearn.preprocessing import StandardScaler\n",
    "\n",
    "# Load the data\n",
    "data = model.gaussians.get_features_extra.detach().cpu().numpy()\n",
    "# Standardize the data\n",
    "scaler = StandardScaler()\n",
    "data_scaled = scaler.fit_transform(data)\n",
    "\n",
    "# Perform t-SNE\n",
    "tsne = TSNE(n_components=3, perplexity=30, n_iter=300, random_state=42)\n",
    "X_tsne = tsne.fit_transform(data_scaled)\n",
    "\n",
    "# Plot the t-SNE results in 3D\n",
    "fig = plt.figure(figsize=(10, 8))\n",
    "ax = fig.add_subplot(111, projection='3d')\n",
    "ax.scatter(X_tsne[:, 0], X_tsne[:, 1], X_tsne[:, 2], s=5)\n",
    "ax.set_title('3D t-SNE of Features')\n",
    "ax.set_xlabel('t-SNE Component 1')\n",
    "ax.set_ylabel('t-SNE Component 2')\n",
    "ax.set_zlabel('t-SNE Component 3')\n",
    "plt.show()\n",
    "\n",
    "# Plot the t-SNE results in 3D with color coding\n",
    "fig = plt.figure(figsize=(10, 8))\n",
    "ax = fig.add_subplot(111, projection='3d')\n",
    "ax.scatter(X_tsne[:, 0], X_tsne[:, 1], X_tsne[:, 2], c=data[:, 0], cmap='viridis', s=5)\n",
    "ax.set_title('3D t-SNE of Features with Color Coding')\n",
    "ax.set_xlabel('t-SNE Component 1')\n",
    "ax.set_ylabel('t-SNE Component 2')\n",
    "ax.set_zlabel('t-SNE Component 3')\n",
    "plt.colorbar(ax.collections[0], ax=ax, label='Feature Value')\n",
    "plt.show()\n",
    "\n",
    "# Create an interactive 3D plot using Plotly\n",
    "\n"
   ]
  },
  {
   "cell_type": "markdown",
   "id": "194a3d14",
   "metadata": {},
   "source": [
    "## T-SNE 3D"
   ]
  },
  {
   "cell_type": "code",
   "execution_count": null,
   "id": "9015a77e",
   "metadata": {},
   "outputs": [],
   "source": [
    "import plotly.express as px\n",
    "\n",
    "# Create an interactive 3D scatter plot with Plotly\n",
    "fig = px.scatter_3d(\n",
    "    x=X_tsne[:, 0],\n",
    "    y=X_tsne[:, 1],\n",
    "    z=X_tsne[:, 2],\n",
    "    color=data[:, 0],  # Adjust the feature for color-coding as needed\n",
    "    labels={'x': 'TSNE Component 1', \n",
    "            'y': 'TSNE Component 2', \n",
    "            'z': 'TSNE Component 3'},\n",
    "    title='Interactive 3D t-SNE Plot of Features'\n",
    ")\n",
    "fig.update_traces(marker=dict(size=1))\n",
    "fig.update_layout(height=800)\n",
    "fig.show()"
   ]
  },
  {
   "cell_type": "markdown",
   "id": "b6e53271",
   "metadata": {},
   "source": [
    "# UMAP\n",
    "\n",
    "Another way to vizualize the groupings."
   ]
  },
  {
   "cell_type": "code",
   "execution_count": null,
   "id": "0e8f1f30",
   "metadata": {},
   "outputs": [],
   "source": [
    "import umap\n",
    "\n",
    "umap2d = umap.UMAP(\n",
    "    n_neighbors=15,        # matches knn above\n",
    "    min_dist=0.1,          # 0 → tighter clusters, >0.4 → looser\n",
    "    metric=\"cosine\"\n",
    ").fit_transform(data_standardized)"
   ]
  },
  {
   "cell_type": "code",
   "execution_count": null,
   "id": "26dd2687",
   "metadata": {},
   "outputs": [],
   "source": [
    "import hdbscan\n",
    "# Cluster the data using HDBSCAN. Ideally, we'd use ground truth labels for our UMAP. But we don't have time to calculate those. \n",
    "# With more time, we use the ARIA dataset to map our 3dgs points to ground truth labels. \n",
    "labels = hdbscan.HDBSCAN(min_cluster_size=20, metric=\"euclidean\").fit_predict(umap2d)"
   ]
  },
  {
   "cell_type": "code",
   "execution_count": null,
   "id": "e201c006",
   "metadata": {},
   "outputs": [],
   "source": [
    "import plotly.express as px\n",
    "fig = px.scatter(x=umap2d[:,0], y=umap2d[:,1],\n",
    "                 color=labels.astype(str),\n",
    "                 hover_data=dict(index=list(range(len(data)))),\n",
    "                 )\n",
    "fig.show()"
   ]
  },
  {
   "cell_type": "code",
   "execution_count": null,
   "id": "2762ee22",
   "metadata": {},
   "outputs": [],
   "source": []
  }
 ],
 "metadata": {
  "kernelspec": {
   "display_name": "egolifter",
   "language": "python",
   "name": "egolifter"
  },
  "language_info": {
   "codemirror_mode": {
    "name": "ipython",
    "version": 3
   },
   "file_extension": ".py",
   "mimetype": "text/x-python",
   "name": "python",
   "nbconvert_exporter": "python",
   "pygments_lexer": "ipython3",
   "version": "3.12.3"
  }
 },
 "nbformat": 4,
 "nbformat_minor": 5
}
