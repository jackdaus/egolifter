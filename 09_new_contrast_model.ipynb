{
 "cells": [
  {
   "cell_type": "markdown",
   "id": "fb0207e2",
   "metadata": {},
   "source": [
    "# New contrast method (v4)\n",
    "\n",
    "Testing out a new contrast method. "
   ]
  },
  {
   "cell_type": "code",
   "execution_count": 1,
   "id": "27401353",
   "metadata": {},
   "outputs": [
    {
     "name": "stderr",
     "output_type": "stream",
     "text": [
      "/tmp/ipykernel_66761/1140340723.py:6: UserWarning: \n",
      "The version_base parameter is not specified.\n",
      "Please specify a compatability version level, or None.\n",
      "Will assume defaults for version 1.1\n",
      "  with initialize(config_path=\"conf\", job_name=\"notebook_app\"):\n",
      "/home/ubuntu/egolifter/.venv/lib/python3.10/site-packages/hydra/_internal/defaults_list.py:251: UserWarning: In 'train': Defaults list is missing `_self_`. See https://hydra.cc/docs/1.2/upgrades/1.0_to_1.1/default_composition_order for more information\n",
      "  warnings.warn(msg, UserWarning)\n"
     ]
    }
   ],
   "source": [
    "from hydra import initialize, compose\n",
    "from omegaconf import OmegaConf\n",
    "\n",
    "# Initialize Hydra with the directory where your config lives.\n",
    "# Note that hydra will tkae care of composing all our disparate config files\n",
    "with initialize(config_path=\"conf\", job_name=\"notebook_app\"):\n",
    "    # Compose the configuration, using \"train\" as the config name.\n",
    "    cfg = compose(config_name=\"train\", \n",
    "                  overrides=[\n",
    "                      \"model=vanilla_contrast_v3\",\n",
    "                      \"scene.data_root=/home/ubuntu/cs-747-project/adt_processed\",\n",
    "                      \"scene.scene_name=Apartment_release_work_skeleton_seq131\",\n",
    "                      \"output_root=/home/ubuntu/cs-747-project/output/adt\",\n",
    "                      \"exp_name=3dgs_new_contrast-1\",\n",
    "                      \"lift.use_contr=True\",\n",
    "                      \"lift.name=v4\",\n",
    "                      \"wandb.project=egolifter_adt\"\n",
    "                  ])"
   ]
  },
  {
   "cell_type": "code",
   "execution_count": 2,
   "id": "cc3a978a",
   "metadata": {},
   "outputs": [],
   "source": [
    "# Now you can use cfg to see what was loaded.\n",
    "# print(OmegaConf.to_yaml(cfg))"
   ]
  },
  {
   "cell_type": "code",
   "execution_count": 3,
   "id": "e07d96b4",
   "metadata": {},
   "outputs": [],
   "source": [
    "# Make the output directory\n",
    "import os\n",
    "os.makedirs(cfg.scene.model_path, exist_ok=True)"
   ]
  },
  {
   "cell_type": "code",
   "execution_count": 4,
   "id": "e5760ee7",
   "metadata": {},
   "outputs": [
    {
     "name": "stderr",
     "output_type": "stream",
     "text": [
      "\u001b[34m\u001b[1mwandb\u001b[0m: Using wandb-core as the SDK backend.  Please refer to https://wandb.me/wandb-core for more information.\n",
      "\u001b[34m\u001b[1mwandb\u001b[0m: Currently logged in as: \u001b[33mjackdaus\u001b[0m (\u001b[33mjackdaus-george-mason-university\u001b[0m) to \u001b[32mhttps://api.wandb.ai\u001b[0m. Use \u001b[1m`wandb login --relogin`\u001b[0m to force relogin\n"
     ]
    },
    {
     "data": {
      "text/html": [
       "Tracking run with wandb version 0.19.9"
      ],
      "text/plain": [
       "<IPython.core.display.HTML object>"
      ]
     },
     "metadata": {},
     "output_type": "display_data"
    },
    {
     "data": {
      "text/html": [
       "Run data is saved locally in <code>/home/ubuntu/cs-747-project/output/adt/Apartment_release_work_skeleton_seq131/vanilla_contrast_v3_3dgs_new_contrast-1/wandb/run-20250506_034942-rz2j9axr</code>"
      ],
      "text/plain": [
       "<IPython.core.display.HTML object>"
      ]
     },
     "metadata": {},
     "output_type": "display_data"
    },
    {
     "data": {
      "text/html": [
       "Syncing run <strong><a href='https://wandb.ai/jackdaus-george-mason-university/egolifter_adt/runs/rz2j9axr' target=\"_blank\">3dgs_new_contrast-1</a></strong> to <a href='https://wandb.ai/jackdaus-george-mason-university/egolifter_adt' target=\"_blank\">Weights & Biases</a> (<a href='https://wandb.me/developer-guide' target=\"_blank\">docs</a>)<br>"
      ],
      "text/plain": [
       "<IPython.core.display.HTML object>"
      ]
     },
     "metadata": {},
     "output_type": "display_data"
    },
    {
     "data": {
      "text/html": [
       " View project at <a href='https://wandb.ai/jackdaus-george-mason-university/egolifter_adt' target=\"_blank\">https://wandb.ai/jackdaus-george-mason-university/egolifter_adt</a>"
      ],
      "text/plain": [
       "<IPython.core.display.HTML object>"
      ]
     },
     "metadata": {},
     "output_type": "display_data"
    },
    {
     "data": {
      "text/html": [
       " View run at <a href='https://wandb.ai/jackdaus-george-mason-university/egolifter_adt/runs/rz2j9axr' target=\"_blank\">https://wandb.ai/jackdaus-george-mason-university/egolifter_adt/runs/rz2j9axr</a>"
      ],
      "text/plain": [
       "<IPython.core.display.HTML object>"
      ]
     },
     "metadata": {},
     "output_type": "display_data"
    }
   ],
   "source": [
    "# Set up the logger (wandb)\n",
    "from lightning.pytorch.loggers import WandbLogger\n",
    "\n",
    "# Make the wandb directory\n",
    "os.makedirs(os.path.join(cfg.scene.model_path, \"wandb\"), exist_ok=True)\n",
    "os.makedirs(cfg.wandb.save_dir, exist_ok=True)\n",
    "\n",
    "# Create the logger\n",
    "logger = WandbLogger(\n",
    "    project=cfg.wandb.project, \n",
    "    entity=cfg.wandb.entity,\n",
    "    name=cfg.exp_name,\n",
    "    save_dir=cfg.wandb.save_dir,\n",
    ")\n",
    "\n",
    "# Tell the logger what hyperparameters to log\n",
    "logger.log_hyperparams(OmegaConf.to_container(cfg, resolve=True))"
   ]
  },
  {
   "cell_type": "code",
   "execution_count": 5,
   "id": "45b6c067",
   "metadata": {},
   "outputs": [],
   "source": [
    "# (OPTIONAL) And save the config to the output directory\n",
    "# This is useful for keeping track of what you ran\n",
    "# OmegaConf.save(cfg, os.path.join(cfg.scene.model_path, \"config.yaml\"), resolve=True)"
   ]
  },
  {
   "cell_type": "code",
   "execution_count": 6,
   "id": "55c6cfa3",
   "metadata": {},
   "outputs": [
    {
     "name": "stderr",
     "output_type": "stream",
     "text": [
      "Seed set to 42\n"
     ]
    },
    {
     "name": "stdout",
     "output_type": "stream",
     "text": [
      "Found global_points.csv.gz file, assuming Aria data set!\n",
      "Using cameras: {'rgb'}\n",
      "Loaded #3dPoints: 840220\n",
      "Loading the semantic segmentation info\n",
      "Loading the 2D segmentation info\n",
      "Found 1852 images for train subset.\n",
      "Found 464 images for valid subset.\n",
      "Found 290 images for valid_novel subset.\n",
      "Found 289 images for test subset.\n",
      "Found 2316 images for trainvalid subset.\n",
      "Found 579 images for novel subset.\n",
      "Found 2605 images for all subset.\n",
      "Initializing ContrastiveManagerV4...\n"
     ]
    }
   ],
   "source": [
    "import lightning as L\n",
    "from scene import Scene\n",
    "\n",
    "# Set the seed for reproducibility\n",
    "L.seed_everything(cfg.seed)\n",
    "\n",
    "# Create a new scene object\n",
    "scene = Scene(cfg)"
   ]
  },
  {
   "cell_type": "code",
   "execution_count": 7,
   "id": "60435888",
   "metadata": {},
   "outputs": [
    {
     "name": "stdout",
     "output_type": "stream",
     "text": [
      "Initializing VanillaGaussian...\n",
      "Initializing VanillaContrastV3...\n",
      "VanillaContrastV3(\n",
      "  (gaussians): GaussianMLPModel(\n",
      "    (extra_mlp): Sequential(\n",
      "      (0): Linear(in_features=6, out_features=128, bias=True)\n",
      "      (1): ReLU()\n",
      "      (2): Linear(in_features=128, out_features=3, bias=True)\n",
      "    )\n",
      "  )\n",
      ")\n"
     ]
    }
   ],
   "source": [
    "from model import get_model\n",
    "\n",
    "# Load the model. This is one of our LightningModules (i.e., VanillaGaussian, Unc2DUnet, etc.)\n",
    "model = get_model(cfg, scene)\n",
    "print(model)"
   ]
  },
  {
   "cell_type": "code",
   "execution_count": 8,
   "id": "6343b12f",
   "metadata": {},
   "outputs": [
    {
     "name": "stdout",
     "output_type": "stream",
     "text": [
      "Number of points at initialisation :  221337\n"
     ]
    }
   ],
   "source": [
    "# This will load an initial point cloud. The point cloud is loaded from scene.scene_info.point_cloud, which was initialized\n",
    "# above in the Scene class. Internally, that comes from global_points.csv.gz file (Aria dataset only; other datasets \n",
    "# init this differently).\n",
    "model.init_or_load_gaussians(\n",
    "    scene.scene_info.point_cloud,\n",
    "    scene.scene_info.nerf_normalization[\"radius\"], # NOTE: not sure that this does... \n",
    "    cfg.scene.model_path,\n",
    "    load_iteration = None,\n",
    ")"
   ]
  },
  {
   "cell_type": "code",
   "execution_count": 9,
   "id": "69f14ef6",
   "metadata": {},
   "outputs": [
    {
     "name": "stdout",
     "output_type": "stream",
     "text": [
      "gaussians._xyz torch.Size([221337, 3])\n",
      "gaussians._features_dc torch.Size([221337, 1, 3])\n",
      "gaussians._features_rest torch.Size([221337, 15, 3])\n",
      "gaussians._scaling torch.Size([221337, 3])\n",
      "gaussians._rotation torch.Size([221337, 4])\n",
      "gaussians._opacity torch.Size([221337, 1])\n",
      "gaussians.extra_mlp.0.weight torch.Size([128, 6])\n",
      "gaussians.extra_mlp.0.bias torch.Size([128])\n",
      "gaussians.extra_mlp.2.weight torch.Size([3, 128])\n",
      "gaussians.extra_mlp.2.bias torch.Size([3])\n"
     ]
    }
   ],
   "source": [
    "# Loop over the model to print the parameters\n",
    "for name, param in model.named_parameters():\n",
    "    print(name, param.shape)"
   ]
  },
  {
   "cell_type": "code",
   "execution_count": 10,
   "id": "3b34556c",
   "metadata": {},
   "outputs": [],
   "source": [
    "# Load the data loader. This is a PyTorch DataLoader object that will load the data for training.\n",
    "train_loader = scene.get_data_loader(\"train\", shuffle=True, num_workers=cfg.scene.num_workers)\n",
    "valid_loader = scene.get_data_loader(\"valid\", shuffle=False, num_workers=cfg.scene.num_workers)\n",
    "valid_novel_loader = scene.get_data_loader(\"valid_novel\", shuffle=False, num_workers=cfg.scene.num_workers)"
   ]
  },
  {
   "cell_type": "code",
   "execution_count": 11,
   "id": "2a7f8b70",
   "metadata": {},
   "outputs": [
    {
     "name": "stderr",
     "output_type": "stream",
     "text": [
      "GPU available: True (cuda), used: True\n",
      "TPU available: False, using: 0 TPU cores\n",
      "HPU available: False, using: 0 HPUs\n"
     ]
    }
   ],
   "source": [
    "from callback.checkpoint import ModelCheckpoint\n",
    "\n",
    "# Set up the checkpoint callback. This will save the model every n steps.\n",
    "checkpoint_callback = ModelCheckpoint(\n",
    "    dirpath=cfg.scene.model_path,\n",
    "    filename=\"chkpnt{step}\",\n",
    "    save_top_k=-1,\n",
    "    verbose=True,\n",
    "    monitor=None,\n",
    "    every_n_train_steps = cfg.opt.ckpt_every_n_steps,\n",
    ")\n",
    "\n",
    "# Init the trainer\n",
    "trainer = L.Trainer(\n",
    "    max_steps=cfg.opt.iterations,\n",
    "    logger=logger,\n",
    "    check_val_every_n_epoch=None,\n",
    "    val_check_interval = cfg.opt.val_every_n_steps,\n",
    "    callbacks=[checkpoint_callback],\n",
    "    devices=cfg.gpus, \n",
    ")"
   ]
  },
  {
   "cell_type": "code",
   "execution_count": null,
   "id": "c14c2c65",
   "metadata": {},
   "outputs": [
    {
     "name": "stderr",
     "output_type": "stream",
     "text": [
      "You are using a CUDA device ('NVIDIA A10') that has Tensor Cores. To properly utilize them, you should set `torch.set_float32_matmul_precision('medium' | 'high')` which will trade-off precision for performance. For more details, read https://pytorch.org/docs/stable/generated/torch.set_float32_matmul_precision.html#torch.set_float32_matmul_precision\n",
      "/home/ubuntu/egolifter/.venv/lib/python3.10/site-packages/lightning/pytorch/callbacks/model_checkpoint.py:654: Checkpoint directory /home/ubuntu/cs-747-project/output/adt/Apartment_release_work_skeleton_seq131/vanilla_contrast_v3_3dgs_new_contrast-1 exists and is not empty.\n",
      "LOCAL_RANK: 0 - CUDA_VISIBLE_DEVICES: [0]\n",
      "\n",
      "  | Name      | Type             | Params | Mode \n",
      "-------------------------------------------------------\n",
      "0 | gaussians | GaussianMLPModel | 13.1 M | train\n",
      "-------------------------------------------------------\n",
      "13.1 M    Trainable params\n",
      "0         Non-trainable params\n",
      "13.1 M    Total params\n",
      "52.241    Total estimated model params size (MB)\n",
      "5         Modules in train mode\n",
      "0         Modules in eval mode\n"
     ]
    },
    {
     "name": "stdout",
     "output_type": "stream",
     "text": [
      "Output folder: /home/ubuntu/cs-747-project/output/adt/Apartment_release_work_skeleton_seq131/vanilla_contrast_v3_3dgs_new_contrast-1\n",
      "Setting up for training\n"
     ]
    },
    {
     "data": {
      "application/vnd.jupyter.widget-view+json": {
       "model_id": "aaf4db336c604a2a8ff05152dc38cbab",
       "version_major": 2,
       "version_minor": 0
      },
      "text/plain": [
       "Sanity Checking: |          | 0/? [00:00<?, ?it/s]"
      ]
     },
     "metadata": {},
     "output_type": "display_data"
    },
    {
     "data": {
      "application/vnd.jupyter.widget-view+json": {
       "model_id": "88cb344dcc474cc693a01fd0fb50f0a6",
       "version_major": 2,
       "version_minor": 0
      },
      "text/plain": [
       "Training: |          | 0/? [00:00<?, ?it/s]"
      ]
     },
     "metadata": {},
     "output_type": "display_data"
    },
    {
     "name": "stderr",
     "output_type": "stream",
     "text": [
      "/home/ubuntu/egolifter/.venv/lib/python3.10/site-packages/sklearn/decomposition/_pca.py:648: RuntimeWarning: invalid value encountered in divide\n",
      "  explained_variance_ratio_ = explained_variance_ / total_var\n",
      "/home/ubuntu/egolifter/.venv/lib/python3.10/site-packages/sklearn/decomposition/_pca.py:648: RuntimeWarning: invalid value encountered in divide\n",
      "  explained_variance_ratio_ = explained_variance_ / total_var\n",
      "\n",
      "Detected KeyboardInterrupt, attempting graceful shutdown ...\n"
     ]
    }
   ],
   "source": [
    "# Train the model!\n",
    "trainer.fit(\n",
    "    model=model,\n",
    "    train_dataloaders=train_loader,\n",
    "    val_dataloaders=[valid_loader, valid_novel_loader],\n",
    ")"
   ]
  },
  {
   "cell_type": "markdown",
   "id": "a08530fc",
   "metadata": {},
   "source": [
    "# Eval"
   ]
  },
  {
   "cell_type": "code",
   "execution_count": null,
   "id": "40ca029c",
   "metadata": {},
   "outputs": [],
   "source": [
    "import pandas as pd\n",
    "# Evaluation\n",
    "if not cfg.skip_test:\n",
    "    for subset in [\"test\", \"valid\", \"valid_novel\", \"train\"]:\n",
    "        loader = scene.get_data_loader(subset, shuffle=False)\n",
    "        if len(loader) > 0:\n",
    "            trainer.test(\n",
    "                model=model,\n",
    "                dataloaders=loader,\n",
    "            )\n",
    "            df = pd.DataFrame(model.test_logs)\n",
    "            df.to_csv(os.path.join(cfg.scene.model_path, f\"eval_logs_{subset}.csv\"), index=False)"
   ]
  },
  {
   "cell_type": "code",
   "execution_count": null,
   "id": "0ecdf665",
   "metadata": {},
   "outputs": [],
   "source": [
    "from utils.eval_2dseg import eval_query_2dseg\n",
    "import wandb\n",
    "from pathlib import Path\n",
    "\n",
    "# Evaluate the 2D segmentation\n",
    "if cfg.lift.use_contr:\n",
    "    if scene.scene_info.query_2dseg is None:\n",
    "        print(\"No 2D segmentation query found in the scene info. Skipping 2D segmentation evaluation.\")\n",
    "    else:\n",
    "        # Copy the to a new model to avoid a weird memory illegal access error\n",
    "        model_eval = get_model(cfg, scene)\n",
    "        model_eval.init_gaussians_size_from_state_dict(model.state_dict())\n",
    "        model_eval.load_state_dict(model.state_dict())\n",
    "        model_eval = model_eval.eval().cuda()\n",
    "        \n",
    "        for subset in [\"test\", \"valid\", \"valid_novel\", \"train\"]:\n",
    "            print(f\"Evaluating subset: {subset} ...\")\n",
    "            dataloader = scene.get_data_loader(subset, shuffle=False, num_workers=0, limit=200)\n",
    "            threshold_mode = \"fixed\"\n",
    "            threshold_value = 0.6\n",
    "            static_miou, dynamic_miou, df_eval_logs = eval_query_2dseg(\n",
    "                scene, dataloader, model_eval, threshold_mode, threshold_value)\n",
    "            print(f\"{subset}: static mIoU: {static_miou}, dynamic mIoU: {dynamic_miou}\")\n",
    "            \n",
    "            wandb.log({\n",
    "                f\"2dseg_static/{subset}_miou\": static_miou,\n",
    "                f\"2dseg_dynamic/{subset}_miou\": dynamic_miou,\n",
    "            })\n",
    "            \n",
    "            # Save the evaluation logs to the ckpt_folder\n",
    "            save_path = Path(cfg.scene.model_path) / \"2dseg_eval\" / f\"{subset}_logs_{threshold_mode}_{threshold_value}.csv\"\n",
    "            save_path.parent.mkdir(parents=True, exist_ok=True)\n",
    "            df_eval_logs.to_csv(save_path, index=False)"
   ]
  },
  {
   "cell_type": "code",
   "execution_count": null,
   "id": "f45a7aea",
   "metadata": {},
   "outputs": [],
   "source": [
    "import os\n",
    "\n",
    "os.environ[\"SCENE_NAME\"] = cfg.scene.scene_name\n",
    "os.environ[\"ADT_PROCESSED_ROOT\"] = cfg.scene.data_root\n",
    "os.environ[\"FOLDER_NAME\"] = 'vanilla_3dgs'\n",
    "os.environ[\"OUTPUT_ROOT\"] = cfg.output_root"
   ]
  },
  {
   "cell_type": "code",
   "execution_count": null,
   "id": "e93cd006",
   "metadata": {},
   "outputs": [],
   "source": [
    "# Render the images into a video \n",
    "# Select render_subset as one of the subset of images to render\n",
    "# render_subset=novel        # novel subset\n",
    "# render_subset=trainvalid   # seen subset\n",
    "\n",
    "!uv run python render_lightning.py \\\n",
    "    model_path=$OUTPUT_ROOT/$SCENE_NAME/$FOLDER_NAME \\\n",
    "    render_subset=novel \\\n",
    "    source_path=$ADT_PROCESSED_ROOT/$SCENE_NAME"
   ]
  },
  {
   "cell_type": "code",
   "execution_count": null,
   "id": "b074d19a",
   "metadata": {},
   "outputs": [],
   "source": []
  }
 ],
 "metadata": {
  "kernelspec": {
   "display_name": "egolifter",
   "language": "python",
   "name": "egolifter"
  },
  "language_info": {
   "codemirror_mode": {
    "name": "ipython",
    "version": 3
   },
   "file_extension": ".py",
   "mimetype": "text/x-python",
   "name": "python",
   "nbconvert_exporter": "python",
   "pygments_lexer": "ipython3",
   "version": "3.10.12"
  }
 },
 "nbformat": 4,
 "nbformat_minor": 5
}
