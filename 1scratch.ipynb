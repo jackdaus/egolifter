{
 "cells": [
  {
   "cell_type": "code",
   "execution_count": 1,
   "id": "3ca49473",
   "metadata": {},
   "outputs": [
    {
     "name": "stdout",
     "output_type": "stream",
     "text": [
      "/home/jackd/source/egolifter/.venv/lib/python3.10/site-packages/hydra/_internal/defaults_list.py:251: UserWarning: In 'train': Defaults list is missing `_self_`. See https://hydra.cc/docs/1.2/upgrades/1.0_to_1.1/default_composition_order for more information\n",
      "  warnings.warn(msg, UserWarning)\n",
      "Working directory : /home/jackd/source/egolifter\n",
      "Output directory  : /home/jackd/source/egolifter/output/adt/unc_2d_unet_egolifter/2025-04-19_23-51-37\n",
      "\u001b[34m\u001b[1mwandb\u001b[0m: Using wandb-core as the SDK backend.  Please refer to https://wandb.me/wandb-core for more information.\n",
      "\u001b[34m\u001b[1mwandb\u001b[0m: Currently logged in as: \u001b[33mjackdaus\u001b[0m (\u001b[33mjackdaus-george-mason-university\u001b[0m) to \u001b[32mhttps://api.wandb.ai\u001b[0m. Use \u001b[1m`wandb login --relogin`\u001b[0m to force relogin\n",
      "\u001b[34m\u001b[1mwandb\u001b[0m: \u001b[38;5;178m⢿\u001b[0m creating run (0.1s)\n",
      "\u001b[34m\u001b[1mwandb\u001b[0m: Tracking run with wandb version 0.19.9\n",
      "\u001b[34m\u001b[1mwandb\u001b[0m: Run data is saved locally in \u001b[35m\u001b[1m./output/adt//unc_2d_unet_egolifter/wandb/run-20250419_235138-w9agqm93\u001b[0m\n",
      "\u001b[34m\u001b[1mwandb\u001b[0m: Run \u001b[1m`wandb offline`\u001b[0m to turn off syncing.\n",
      "\u001b[34m\u001b[1mwandb\u001b[0m: Syncing run \u001b[33megolifter\u001b[0m\n",
      "\u001b[34m\u001b[1mwandb\u001b[0m: ⭐️ View project at \u001b[34m\u001b[4mhttps://wandb.ai/jackdaus-george-mason-university/egolifter_adt\u001b[0m\n",
      "\u001b[34m\u001b[1mwandb\u001b[0m: 🚀 View run at \u001b[34m\u001b[4mhttps://wandb.ai/jackdaus-george-mason-university/egolifter_adt/runs/w9agqm93\u001b[0m\n",
      "Seed set to 42\n",
      "Error executing job with overrides: ['scene.scene_name=', 'scene.data_root=', 'model=unc_2d_unet', 'model.unet_acti=sigmoid', 'model.dim_extra=16', 'lift.use_contr=True', 'exp_name=egolifter', 'output_root=./output/adt', 'wandb.project=egolifter_adt']\n",
      "Traceback (most recent call last):\n",
      "  File \"/home/jackd/source/egolifter/train_lightning.py\", line 49, in main\n",
      "    scene = Scene(cfg)\n",
      "  File \"/home/jackd/source/egolifter/scene/__init__.py\", line 176, in __init__\n",
      "    self.scene_info = get_scene_info(cfg.scene) if scene_info is None else scene_info\n",
      "  File \"/home/jackd/source/egolifter/scene/dataset_readers/__init__.py\", line 52, in get_scene_info\n",
      "    assert False, \"Could not recognize scene type!\"\n",
      "AssertionError: Could not recognize scene type!\n",
      "\n",
      "Set the environment variable HYDRA_FULL_ERROR=1 for a complete stack trace.\n",
      "\u001b[1;34mwandb\u001b[0m: \n",
      "\u001b[1;34mwandb\u001b[0m: 🚀 View run \u001b[33megolifter\u001b[0m at: \u001b[34mhttps://wandb.ai/jackdaus-george-mason-university/egolifter_adt/runs/w9agqm93\u001b[0m\n"
     ]
    }
   ],
   "source": [
    "!SCENE_NAME=Apartment_release_golden_skeleton_seq100_10s_sample\n",
    "\n",
    "# EgoLifter (full method)\n",
    "!python train_lightning.py \\\n",
    "    scene.scene_name=${SCENE_NAME} \\\n",
    "    scene.data_root=${ADT_PROCESSED_ROOT} \\\n",
    "    model=unc_2d_unet \\\n",
    "    model.unet_acti=sigmoid \\\n",
    "    model.dim_extra=16 \\\n",
    "    lift.use_contr=True \\\n",
    "    exp_name=egolifter \\\n",
    "    output_root=./output/adt \\\n",
    "    wandb.project=egolifter_adt"
   ]
  }
 ],
 "metadata": {
  "kernelspec": {
   "display_name": "egolifter",
   "language": "python",
   "name": "egolifter"
  },
  "language_info": {
   "codemirror_mode": {
    "name": "ipython",
    "version": 3
   },
   "file_extension": ".py",
   "mimetype": "text/x-python",
   "name": "python",
   "nbconvert_exporter": "python",
   "pygments_lexer": "ipython3",
   "version": "3.10.17"
  }
 },
 "nbformat": 4,
 "nbformat_minor": 5
}
